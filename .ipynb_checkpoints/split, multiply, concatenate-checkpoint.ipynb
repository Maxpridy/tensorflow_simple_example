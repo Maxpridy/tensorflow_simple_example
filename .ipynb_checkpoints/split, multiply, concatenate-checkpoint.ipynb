{
 "cells": [
  {
   "cell_type": "code",
   "execution_count": 24,
   "metadata": {},
   "outputs": [],
   "source": [
    "import numpy as np\n",
    "import random"
   ]
  },
  {
   "cell_type": "code",
   "execution_count": 3,
   "metadata": {},
   "outputs": [
    {
     "data": {
      "text/plain": [
       "array([[1, 1, 1, ..., 1, 1, 1],\n",
       "       [1, 1, 1, ..., 1, 1, 1],\n",
       "       [1, 1, 1, ..., 1, 1, 1],\n",
       "       ...,\n",
       "       [1, 1, 1, ..., 1, 1, 1],\n",
       "       [1, 1, 1, ..., 1, 1, 1],\n",
       "       [1, 1, 1, ..., 1, 1, 1]])"
      ]
     },
     "execution_count": 3,
     "metadata": {},
     "output_type": "execute_result"
    }
   ],
   "source": [
    "a = np.array([[1 for _ in range(65)] for _ in range(32)])\n",
    "a"
   ]
  },
  {
   "cell_type": "code",
   "execution_count": 21,
   "metadata": {},
   "outputs": [
    {
     "data": {
      "text/plain": [
       "(32, 65)"
      ]
     },
     "execution_count": 21,
     "metadata": {},
     "output_type": "execute_result"
    }
   ],
   "source": [
    "np.shape(a)"
   ]
  },
  {
   "cell_type": "code",
   "execution_count": 17,
   "metadata": {},
   "outputs": [
    {
     "name": "stdout",
     "output_type": "stream",
     "text": [
      "[array([[1, 1, 1, ..., 1, 1, 1],\n",
      "       [1, 1, 1, ..., 1, 1, 1],\n",
      "       [1, 1, 1, ..., 1, 1, 1],\n",
      "       ...,\n",
      "       [1, 1, 1, ..., 1, 1, 1],\n",
      "       [1, 1, 1, ..., 1, 1, 1],\n",
      "       [1, 1, 1, ..., 1, 1, 1]]), array([[1, 1, 1, ..., 1, 1, 1],\n",
      "       [1, 1, 1, ..., 1, 1, 1],\n",
      "       [1, 1, 1, ..., 1, 1, 1],\n",
      "       ...,\n",
      "       [1, 1, 1, ..., 1, 1, 1],\n",
      "       [1, 1, 1, ..., 1, 1, 1],\n",
      "       [1, 1, 1, ..., 1, 1, 1]])]\n"
     ]
    }
   ],
   "source": [
    "b = np.split(a, [33], 1)\n"
   ]
  },
  {
   "cell_type": "code",
   "execution_count": 19,
   "metadata": {},
   "outputs": [
    {
     "data": {
      "text/plain": [
       "(32, 33)"
      ]
     },
     "execution_count": 19,
     "metadata": {},
     "output_type": "execute_result"
    }
   ],
   "source": [
    "b[0]\n",
    "np.shape(b[0])"
   ]
  },
  {
   "cell_type": "code",
   "execution_count": 22,
   "metadata": {},
   "outputs": [
    {
     "data": {
      "text/plain": [
       "(32, 32)"
      ]
     },
     "execution_count": 22,
     "metadata": {},
     "output_type": "execute_result"
    }
   ],
   "source": [
    "b[1]\n",
    "np.shape(b[1])"
   ]
  },
  {
   "cell_type": "code",
   "execution_count": 26,
   "metadata": {},
   "outputs": [
    {
     "data": {
      "text/plain": [
       "[1.9573984527462072,\n",
       " 1.1121729694684226,\n",
       " 1.3456653627003354,\n",
       " 1.8602473184583896,\n",
       " 1.8910770876336453,\n",
       " 1.6445932149681886,\n",
       " 1.2038028354346109,\n",
       " 1.9846234479688656,\n",
       " 1.098294392953166,\n",
       " 1.1721590227225018,\n",
       " 1.789976590790546,\n",
       " 1.134671579081961,\n",
       " 1.2296307034910623,\n",
       " 1.902599441399078,\n",
       " 1.1031909020528448,\n",
       " 1.2764268281898405,\n",
       " 1.46480810285448,\n",
       " 1.5245872121621338,\n",
       " 1.6239903545335646,\n",
       " 1.0752806715076413,\n",
       " 1.6181210381675237,\n",
       " 1.976176977968799,\n",
       " 1.3077190410265627,\n",
       " 1.8015664627678485,\n",
       " 1.912137060491672,\n",
       " 1.563293739577941,\n",
       " 1.7373153826798524,\n",
       " 1.5432108138821174,\n",
       " 1.5217389056310533,\n",
       " 1.2270636719939192,\n",
       " 1.3547854103250896,\n",
       " 1.0710941631079094]"
      ]
     },
     "execution_count": 26,
     "metadata": {},
     "output_type": "execute_result"
    }
   ],
   "source": [
    "c = [1 + random.random() for _ in range(32)]\n",
    "c"
   ]
  },
  {
   "cell_type": "code",
   "execution_count": 32,
   "metadata": {},
   "outputs": [
    {
     "data": {
      "text/plain": [
       "array([[1.95739845],\n",
       "       [1.11217297],\n",
       "       [1.34566536],\n",
       "       [1.86024732],\n",
       "       [1.89107709],\n",
       "       [1.64459321],\n",
       "       [1.20380284],\n",
       "       [1.98462345],\n",
       "       [1.09829439],\n",
       "       [1.17215902],\n",
       "       [1.78997659],\n",
       "       [1.13467158],\n",
       "       [1.2296307 ],\n",
       "       [1.90259944],\n",
       "       [1.1031909 ],\n",
       "       [1.27642683],\n",
       "       [1.4648081 ],\n",
       "       [1.52458721],\n",
       "       [1.62399035],\n",
       "       [1.07528067],\n",
       "       [1.61812104],\n",
       "       [1.97617698],\n",
       "       [1.30771904],\n",
       "       [1.80156646],\n",
       "       [1.91213706],\n",
       "       [1.56329374],\n",
       "       [1.73731538],\n",
       "       [1.54321081],\n",
       "       [1.52173891],\n",
       "       [1.22706367],\n",
       "       [1.35478541],\n",
       "       [1.07109416]])"
      ]
     },
     "execution_count": 32,
     "metadata": {},
     "output_type": "execute_result"
    }
   ],
   "source": [
    "d = np.expand_dims(c, 1)\n",
    "d"
   ]
  },
  {
   "cell_type": "code",
   "execution_count": 37,
   "metadata": {},
   "outputs": [
    {
     "data": {
      "text/plain": [
       "array([[1.95739845, 1.95739845, 1.95739845, ..., 1.95739845, 1.95739845,\n",
       "        1.95739845],\n",
       "       [1.11217297, 1.11217297, 1.11217297, ..., 1.11217297, 1.11217297,\n",
       "        1.11217297],\n",
       "       [1.34566536, 1.34566536, 1.34566536, ..., 1.34566536, 1.34566536,\n",
       "        1.34566536],\n",
       "       ...,\n",
       "       [1.22706367, 1.22706367, 1.22706367, ..., 1.22706367, 1.22706367,\n",
       "        1.22706367],\n",
       "       [1.35478541, 1.35478541, 1.35478541, ..., 1.35478541, 1.35478541,\n",
       "        1.35478541],\n",
       "       [1.07109416, 1.07109416, 1.07109416, ..., 1.07109416, 1.07109416,\n",
       "        1.07109416]])"
      ]
     },
     "execution_count": 37,
     "metadata": {},
     "output_type": "execute_result"
    }
   ],
   "source": [
    "e = b[1] * d\n",
    "e"
   ]
  },
  {
   "cell_type": "code",
   "execution_count": 43,
   "metadata": {},
   "outputs": [
    {
     "data": {
      "text/plain": [
       "array([[1.        , 1.        , 1.        , ..., 1.95739845, 1.95739845,\n",
       "        1.95739845],\n",
       "       [1.        , 1.        , 1.        , ..., 1.11217297, 1.11217297,\n",
       "        1.11217297],\n",
       "       [1.        , 1.        , 1.        , ..., 1.34566536, 1.34566536,\n",
       "        1.34566536],\n",
       "       ...,\n",
       "       [1.        , 1.        , 1.        , ..., 1.22706367, 1.22706367,\n",
       "        1.22706367],\n",
       "       [1.        , 1.        , 1.        , ..., 1.35478541, 1.35478541,\n",
       "        1.35478541],\n",
       "       [1.        , 1.        , 1.        , ..., 1.07109416, 1.07109416,\n",
       "        1.07109416]])"
      ]
     },
     "execution_count": 43,
     "metadata": {},
     "output_type": "execute_result"
    }
   ],
   "source": [
    "f = np.concatenate([b[0], e], axis=1)\n",
    "# in tf, tf.concat()\n",
    "f"
   ]
  },
  {
   "cell_type": "code",
   "execution_count": 44,
   "metadata": {},
   "outputs": [
    {
     "data": {
      "text/plain": [
       "(32, 65)"
      ]
     },
     "execution_count": 44,
     "metadata": {},
     "output_type": "execute_result"
    }
   ],
   "source": [
    "np.shape(f)"
   ]
  },
  {
   "cell_type": "code",
   "execution_count": null,
   "metadata": {},
   "outputs": [],
   "source": []
  }
 ],
 "metadata": {
  "kernelspec": {
   "display_name": "Python 3",
   "language": "python",
   "name": "python3"
  },
  "language_info": {
   "codemirror_mode": {
    "name": "ipython",
    "version": 3
   },
   "file_extension": ".py",
   "mimetype": "text/x-python",
   "name": "python",
   "nbconvert_exporter": "python",
   "pygments_lexer": "ipython3",
   "version": "3.6.5"
  }
 },
 "nbformat": 4,
 "nbformat_minor": 2
}

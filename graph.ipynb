{
 "cells": [
  {
   "cell_type": "code",
   "execution_count": 1,
   "metadata": {},
   "outputs": [],
   "source": [
    "import tensorflow as tf"
   ]
  },
  {
   "cell_type": "code",
   "execution_count": 2,
   "metadata": {},
   "outputs": [],
   "source": [
    "with tf.variable_scope(\"test\"):\n",
    "    x = tf.placeholder(tf.float32, [None, 84, 84, 12], name='Input_Images')\n",
    "    conv1 = tf.layers.conv2d(x, 32, 5, padding='same',\n",
    "                             name='conv0', trainable=True,\n",
    "                             activation=tf.nn.relu)\n",
    "    pool1 = tf.layers.max_pooling2d(conv1, 2, 2, name='Max_Pool_1')\n",
    "    conv2 = tf.layers.conv2d(pool1, 32, 5, padding='same',\n",
    "                             name='conv1', trainable=True,\n",
    "                             activation=tf.nn.relu)\n",
    "    pool2 = tf.layers.max_pooling2d(conv2, 2, 2, name='Max_Pool_2')\n",
    "    conv3 = tf.layers.conv2d(pool2, 64, 4, padding='same',\n",
    "                             name='conv2', trainable=True,\n",
    "                             activation=tf.nn.relu)\n",
    "    pool3 = tf.layers.max_pooling2d(conv3, 2, 2, name='Max_Pool_3')\n",
    "    conv4 = tf.layers.conv2d(pool3, 64, 3, padding='same',\n",
    "                             name='conv3', trainable=True,\n",
    "                             activation=tf.nn.relu)\n",
    "\n",
    "    flatten = tf.contrib.layers.flatten(conv4)\n",
    "\n",
    "    fc1 = tf.layers.dense(flatten, units=512, activation=tf.identity,\n",
    "                          name='fc0', trainable=True)\n",
    "    with tf.variable_scope('relu'):\n",
    "        active_1 = tf.nn.relu(fc1)\n",
    "\n",
    "    logits = tf.layers.dense(\n",
    "        inputs=active_1, units=6, trainable=True,\n",
    "        activation=None, name='fc-pi')\n",
    "    policy = tf.nn.softmax(logits)\n",
    "\n",
    "    value = tf.layers.dense(\n",
    "        inputs=active_1, units=1, trainable=True,\n",
    "        activation=None, name='fc-v'\n",
    "    )\n",
    "\n",
    "    # Define saver for all the variable\n",
    "    variables = tf.get_collection(\n",
    "        tf.GraphKeys.GLOBAL_VARIABLES, scope=\"test\"\n",
    "    )\n",
    "    saver = tf.train.Saver(variables)"
   ]
  },
  {
   "cell_type": "code",
   "execution_count": 3,
   "metadata": {},
   "outputs": [
    {
     "name": "stdout",
     "output_type": "stream",
     "text": [
      "[<tf.Variable 'test/conv0/kernel:0' shape=(5, 5, 12, 32) dtype=float32_ref>, <tf.Variable 'test/conv0/bias:0' shape=(32,) dtype=float32_ref>, <tf.Variable 'test/conv1/kernel:0' shape=(5, 5, 32, 32) dtype=float32_ref>, <tf.Variable 'test/conv1/bias:0' shape=(32,) dtype=float32_ref>, <tf.Variable 'test/conv2/kernel:0' shape=(4, 4, 32, 64) dtype=float32_ref>, <tf.Variable 'test/conv2/bias:0' shape=(64,) dtype=float32_ref>, <tf.Variable 'test/conv3/kernel:0' shape=(3, 3, 64, 64) dtype=float32_ref>, <tf.Variable 'test/conv3/bias:0' shape=(64,) dtype=float32_ref>, <tf.Variable 'test/fc0/kernel:0' shape=(6400, 512) dtype=float32_ref>, <tf.Variable 'test/fc0/bias:0' shape=(512,) dtype=float32_ref>, <tf.Variable 'test/fc-pi/kernel:0' shape=(512, 6) dtype=float32_ref>, <tf.Variable 'test/fc-pi/bias:0' shape=(6,) dtype=float32_ref>, <tf.Variable 'test/fc-v/kernel:0' shape=(512, 1) dtype=float32_ref>, <tf.Variable 'test/fc-v/bias:0' shape=(1,) dtype=float32_ref>]\n"
     ]
    }
   ],
   "source": [
    "print(variables)"
   ]
  },
  {
   "cell_type": "code",
   "execution_count": 4,
   "metadata": {},
   "outputs": [
    {
     "name": "stdout",
     "output_type": "stream",
     "text": [
      "<tensorflow.python.training.saver.Saver object at 0x000001A1977A3518>\n"
     ]
    }
   ],
   "source": []
  },
  {
   "cell_type": "code",
   "execution_count": null,
   "metadata": {},
   "outputs": [],
   "source": []
  }
 ],
 "metadata": {
  "kernelspec": {
   "display_name": "Python 3",
   "language": "python",
   "name": "python3"
  },
  "language_info": {
   "codemirror_mode": {
    "name": "ipython",
    "version": 3
   },
   "file_extension": ".py",
   "mimetype": "text/x-python",
   "name": "python",
   "nbconvert_exporter": "python",
   "pygments_lexer": "ipython3",
   "version": "3.6.5"
  }
 },
 "nbformat": 4,
 "nbformat_minor": 2
}

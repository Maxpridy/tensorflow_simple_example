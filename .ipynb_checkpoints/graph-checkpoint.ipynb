{
 "cells": [
  {
   "cell_type": "code",
   "execution_count": 1,
   "metadata": {},
   "outputs": [],
   "source": [
    "import tensorflow as tf"
   ]
  },
  {
   "cell_type": "code",
   "execution_count": 2,
   "metadata": {},
   "outputs": [
    {
     "ename": "NameError",
     "evalue": "name 'number_action' is not defined",
     "output_type": "error",
     "traceback": [
      "\u001b[1;31m---------------------------------------------------------------------------\u001b[0m",
      "\u001b[1;31mNameError\u001b[0m                                 Traceback (most recent call last)",
      "\u001b[1;32m<ipython-input-2-421f2b1c0184>\u001b[0m in \u001b[0;36m<module>\u001b[1;34m()\u001b[0m\n\u001b[0;32m     25\u001b[0m \u001b[1;33m\u001b[0m\u001b[0m\n\u001b[0;32m     26\u001b[0m     logits = tf.layers.dense(\n\u001b[1;32m---> 27\u001b[1;33m         \u001b[0minputs\u001b[0m\u001b[1;33m=\u001b[0m\u001b[0mactive_1\u001b[0m\u001b[1;33m,\u001b[0m \u001b[0munits\u001b[0m\u001b[1;33m=\u001b[0m\u001b[0mnumber_action\u001b[0m\u001b[1;33m,\u001b[0m \u001b[0mtrainable\u001b[0m\u001b[1;33m=\u001b[0m\u001b[1;32mTrue\u001b[0m\u001b[1;33m,\u001b[0m\u001b[1;33m\u001b[0m\u001b[0m\n\u001b[0m\u001b[0;32m     28\u001b[0m         activation=None, name='fc-pi')\n\u001b[0;32m     29\u001b[0m     \u001b[0mpolicy\u001b[0m \u001b[1;33m=\u001b[0m \u001b[0mtf\u001b[0m\u001b[1;33m.\u001b[0m\u001b[0mnn\u001b[0m\u001b[1;33m.\u001b[0m\u001b[0msoftmax\u001b[0m\u001b[1;33m(\u001b[0m\u001b[0mlogits\u001b[0m\u001b[1;33m)\u001b[0m\u001b[1;33m\u001b[0m\u001b[0m\n",
      "\u001b[1;31mNameError\u001b[0m: name 'number_action' is not defined"
     ]
    }
   ],
   "source": [
    "with tf.variable_scope(\"test\"):\n",
    "    x = tf.placeholder(tf.float32, [None, 84, 84, 12], name='Input_Images')\n",
    "    conv1 = tf.layers.conv2d(x, 32, 5, padding='same',\n",
    "                             name='conv0', trainable=True,\n",
    "                             activation=tf.nn.relu)\n",
    "    pool1 = tf.layers.max_pooling2d(conv1, 2, 2, name='Max_Pool_1')\n",
    "    conv2 = tf.layers.conv2d(pool1, 32, 5, padding='same',\n",
    "                             name='conv1', trainable=True,\n",
    "                             activation=tf.nn.relu)\n",
    "    pool2 = tf.layers.max_pooling2d(conv2, 2, 2, name='Max_Pool_2')\n",
    "    conv3 = tf.layers.conv2d(pool2, 64, 4, padding='same',\n",
    "                             name='conv2', trainable=True,\n",
    "                             activation=tf.nn.relu)\n",
    "    pool3 = tf.layers.max_pooling2d(conv3, 2, 2, name='Max_Pool_3')\n",
    "    conv4 = tf.layers.conv2d(pool3, 64, 3, padding='same',\n",
    "                             name='conv3', trainable=True,\n",
    "                             activation=tf.nn.relu)\n",
    "\n",
    "    flatten = tf.contrib.layers.flatten(conv4)\n",
    "\n",
    "    fc1 = tf.layers.dense(flatten, units=512, activation=tf.identity,\n",
    "                          name='fc0', trainable=True)\n",
    "    with tf.variable_scope('relu'):\n",
    "        active_1 = tf.nn.relu(fc1)\n",
    "\n",
    "    logits = tf.layers.dense(\n",
    "        inputs=active_1, units=6, trainable=True,\n",
    "        activation=None, name='fc-pi')\n",
    "    policy = tf.nn.softmax(logits)\n",
    "\n",
    "    value = tf.layers.dense(\n",
    "        inputs=active_1, units=1, trainable=True,\n",
    "        activation=None, name='fc-v'\n",
    "    )\n",
    "\n",
    "    # Define saver for all the variable\n",
    "    variables = tf.get_collection(\n",
    "        tf.GraphKeys.GLOBAL_VARIABLES, scope=\"test\"\n",
    "    )\n",
    "    saver = tf.train.Saver(variables)"
   ]
  },
  {
   "cell_type": "code",
   "execution_count": null,
   "metadata": {},
   "outputs": [],
   "source": []
  },
  {
   "cell_type": "code",
   "execution_count": null,
   "metadata": {},
   "outputs": [],
   "source": []
  }
 ],
 "metadata": {
  "kernelspec": {
   "display_name": "Python 3",
   "language": "python",
   "name": "python3"
  },
  "language_info": {
   "codemirror_mode": {
    "name": "ipython",
    "version": 3
   },
   "file_extension": ".py",
   "mimetype": "text/x-python",
   "name": "python",
   "nbconvert_exporter": "python",
   "pygments_lexer": "ipython3",
   "version": "3.6.5"
  }
 },
 "nbformat": 4,
 "nbformat_minor": 2
}
